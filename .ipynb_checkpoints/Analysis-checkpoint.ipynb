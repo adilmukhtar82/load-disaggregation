{
 "cells": [
  {
   "cell_type": "code",
   "execution_count": 1,
   "id": "c3030cfd-5f49-4729-93f5-cde5bfef8ff5",
   "metadata": {},
   "outputs": [],
   "source": [
    "import pandas as pd\n",
    "import os\n",
    "import numpy as np\n",
    "import matplotlib.pyplot as plt"
   ]
  },
  {
   "cell_type": "code",
   "execution_count": 3,
   "id": "70a80041-ad7b-4450-8da5-ce4e7f074c21",
   "metadata": {},
   "outputs": [],
   "source": [
    "def load_and_print_column_names(directory_path):\n",
    "\n",
    "    for filename in os.listdir(directory_path):\n",
    "\n",
    "        if filename.endswith('.csv'):\n",
    "            file_path = os.path.join(directory_path, filename)\n",
    "\n",
    "            df = pd.read_csv(file_path)\n",
    "\n",
    "            print(f\"Column names in '{filename}':\")\n",
    "            print(df.columns.tolist())\n",
    "            print('-' * 50)"
   ]
  },
  {
   "cell_type": "code",
   "execution_count": 4,
   "id": "d0914540-b59c-495a-a186-1c56fe28d272",
   "metadata": {},
   "outputs": [
    {
     "name": "stdout",
     "output_type": "stream",
     "text": [
      "Column names in 'HomeB-meter1_2014.csv':\n",
      "['Date & Time', 'use [kW]', 'gen [kW]', 'Grid [kW]', 'AC [kW]', 'Furnace [kW]', 'Cellar Lights [kW]', 'Washer [kW]', 'First Floor lights [kW]', 'Utility Rm + Basement Bath [kW]', 'Garage outlets [kW]', 'MBed + KBed outlets [kW]', 'Dryer + egauge [kW]', 'Panel GFI (central vac) [kW]', 'Home Office (R) [kW]', 'Dining room (R) [kW]', 'Microwave (R) [kW]', 'Fridge (R) [kW]']\n",
      "--------------------------------------------------\n",
      "Column names in 'HomeB-meter1_2015.csv':\n",
      "['Date & Time', 'use [kW]', 'gen [kW]', 'Grid [kW]', 'AC [kW]', 'Furnace [kW]', 'Cellar Lights [kW]', 'Washer [kW]', 'First Floor lights [kW]', 'Utility Rm + Basement Bath [kW]', 'Garage outlets [kW]', 'MBed + KBed outlets [kW]', 'Dryer + egauge [kW]', 'Panel GFI (central vac) [kW]', 'Home Office (R) [kW]', 'Dining room (R) [kW]', 'Microwave (R) [kW]', 'Fridge (R) [kW]']\n",
      "--------------------------------------------------\n",
      "Column names in 'HomeB-meter1_2016.csv':\n",
      "['Date & Time', 'use [kW]', 'gen [kW]', 'Grid [kW]', 'AC [kW]', 'Furnace [kW]', 'Cellar Lights [kW]', 'Washer [kW]', 'First Floor lights [kW]', 'Utility Rm + Basement Bath [kW]', 'Garage outlets [kW]', 'MBed + KBed outlets [kW]', 'Dryer + egauge [kW]', 'Panel GFI (central vac) [kW]', 'Home Office (R) [kW]', 'Dining room (R) [kW]', 'Microwave (R) [kW]', 'Fridge (R) [kW]']\n",
      "--------------------------------------------------\n",
      "Column names in 'HomeB-meter2_2014.csv':\n",
      "['Date & Time', 'use [kW]', 'gen [kW]', 'old usage [kW]', 'Home office [kW]', 'Dining room [kW]', 'Microwave [kW]', 'First floor [kW]', 'Tub Whirpool [kW]', 'Kitchen counter [kW]', 'Dishwasher [kW]', 'Fridge [kW]', 'Guest Bedroom / Media Room [kW]', 'MBed KBed Lights &amp;  MasterBath  [kW]', 'Living room &amp; Kitchen Lights [kW]', 'Bath GFI (1st &amp; 2nd floor bath) [kW]']\n",
      "--------------------------------------------------\n",
      "Column names in 'HomeB-meter2_2015.csv':\n",
      "['Date & Time', 'use [kW]', 'gen [kW]', 'old usage [kW]', 'Home office [kW]', 'Dining room [kW]', 'Microwave [kW]', 'First floor [kW]', 'Tub Whirpool [kW]', 'Kitchen counter [kW]', 'Dishwasher [kW]', 'Fridge [kW]', 'Guest Bedroom / Media Room [kW]', 'MBed KBed Lights &amp;  MasterBath  [kW]', 'Living room &amp; Kitchen Lights [kW]', 'Bath GFI (1st &amp; 2nd floor bath) [kW]']\n",
      "--------------------------------------------------\n",
      "Column names in 'HomeB-meter2_2016.csv':\n",
      "['Date & Time', 'use [kW]', 'gen [kW]', 'old usage [kW]', 'Home office [kW]', 'Dining room [kW]', 'Microwave [kW]', 'First floor [kW]', 'Tub Whirpool [kW]', 'Kitchen counter [kW]', 'Dishwasher [kW]', 'Fridge [kW]', 'Guest Bedroom / Media Room [kW]', 'MBed KBed Lights &amp;  MasterBath  [kW]', 'Living room &amp; Kitchen Lights [kW]', 'Bath GFI (1st &amp; 2nd floor bath) [kW]']\n",
      "--------------------------------------------------\n"
     ]
    }
   ],
   "source": [
    "load_and_print_column_names('dataset/HomeB/')"
   ]
  },
  {
   "cell_type": "code",
   "execution_count": null,
   "id": "d80413be-1190-4531-8e57-8bc7d9702e09",
   "metadata": {},
   "outputs": [],
   "source": [
    "pd."
   ]
  }
 ],
 "metadata": {
  "kernelspec": {
   "display_name": "Python 3 (ipykernel)",
   "language": "python",
   "name": "python3"
  },
  "language_info": {
   "codemirror_mode": {
    "name": "ipython",
    "version": 3
   },
   "file_extension": ".py",
   "mimetype": "text/x-python",
   "name": "python",
   "nbconvert_exporter": "python",
   "pygments_lexer": "ipython3",
   "version": "3.11.0"
  }
 },
 "nbformat": 4,
 "nbformat_minor": 5
}
